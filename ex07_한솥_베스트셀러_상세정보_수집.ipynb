{
 "cells": [
  {
   "cell_type": "markdown",
   "id": "d0503452",
   "metadata": {},
   "source": [
    "### 한솥의 베스트 셀러 수집하기\n",
    "- 한솥 베스트 셀러 페이지 정보 요청\n",
    "- 한번씩 상세 페이지 들어갔다가 나오면서(이전페이지로 이동) 메뉴명, 가격, 상세정보 수집하기"
   ]
  },
  {
   "cell_type": "code",
   "execution_count": 1,
   "id": "e46069d9",
   "metadata": {
    "ExecuteTime": {
     "end_time": "2022-12-20T00:21:58.835971Z",
     "start_time": "2022-12-20T00:21:58.014479Z"
    }
   },
   "outputs": [],
   "source": [
    "import pandas as pd\n",
    "import time # 실행에 대한 딜레이를 주기 위한 라이브러리\n",
    "from selenium import webdriver as wb\n",
    "from selenium.webdriver.common.by import By\n",
    "from selenium.webdriver.common.keys import Keys"
   ]
  },
  {
   "cell_type": "markdown",
   "id": "e267973b",
   "metadata": {},
   "source": [
    "### 1번째 메뉴 상세 페이지 들어가서 수집 후 이전 페이지로 이동"
   ]
  },
  {
   "cell_type": "code",
   "execution_count": 7,
   "id": "893332be",
   "metadata": {
    "ExecuteTime": {
     "end_time": "2022-12-20T00:36:48.246628Z",
     "start_time": "2022-12-20T00:36:48.239645Z"
    }
   },
   "outputs": [],
   "source": [
    "# 한솥 베스트 셀러 페이지 요청\n",
    "url ='https://www.hsd.co.kr/menu/menu_keyword?keyword=1'"
   ]
  },
  {
   "cell_type": "code",
   "execution_count": 8,
   "id": "20560bcc",
   "metadata": {
    "ExecuteTime": {
     "end_time": "2022-12-20T00:36:50.612429Z",
     "start_time": "2022-12-20T00:36:48.734519Z"
    }
   },
   "outputs": [],
   "source": [
    "# 메뉴 아이템 중에서 1번째 데이터 클릭 -> 상세페이지 들어가기\n",
    "driver = wb.Chrome()\n",
    "driver.get(url)"
   ]
  },
  {
   "cell_type": "code",
   "execution_count": 21,
   "id": "b1781039",
   "metadata": {
    "ExecuteTime": {
     "end_time": "2022-12-20T01:02:35.416572Z",
     "start_time": "2022-12-20T01:02:34.856762Z"
    }
   },
   "outputs": [],
   "source": [
    "item = driver.find_element(By.CSS_SELECTOR, value='.menu_cont > li:nth-child(1)')\n",
    "# item.get_attribute('href') --> 태그 안에 있는 속성값 확인\n",
    "item.click() # 상세페이지로 들어감\n",
    "# time.sleep(1.5)\n",
    "# driver.back() # 브라우저 주소자체를 건들어야하기때문에 driver에 back함수를 넣어줘야한다(뒤로가기)"
   ]
  },
  {
   "cell_type": "code",
   "execution_count": 35,
   "id": "936f823f",
   "metadata": {
    "ExecuteTime": {
     "end_time": "2022-12-20T01:09:50.560521Z",
     "start_time": "2022-12-20T01:09:50.519517Z"
    }
   },
   "outputs": [],
   "source": [
    "cat = driver.find_element(By.CSS_SELECTOR, value = '.he_tit > .dp1')\n",
    "name = driver.find_element(By.CSS_SELECTOR, value = '.he_tit > .dp2')\n",
    "price = driver.find_element(By.CSS_SELECTOR, value = '.price > .fz_01')\n",
    "cont = driver.find_element(By.CSS_SELECTOR, value = '.account')"
   ]
  },
  {
   "cell_type": "code",
   "execution_count": 36,
   "id": "1473fab8",
   "metadata": {
    "ExecuteTime": {
     "end_time": "2022-12-20T01:09:51.892686Z",
     "start_time": "2022-12-20T01:09:51.832006Z"
    }
   },
   "outputs": [
    {
     "name": "stdout",
     "output_type": "stream",
     "text": [
      "프리미엄\n",
      "매화\n",
      "10,000\n",
      "12가지 다양한 반찬과 조미김, 미니생수가 함께 구성된 프리미엄 도시락으로 소불고기, 제육볶음, 새우후라이, 짭쪼름한 맛이 일품인 고등어 데리야끼 2조각이 구성된 든든한 도시락(※점포 식재 상황에 따라 연어(1조각) 또는 고등어(2조각)로 제공됩니다)\n"
     ]
    }
   ],
   "source": [
    "print(cat.text)\n",
    "print(name.text)\n",
    "print(price.text)\n",
    "print(cont.text)"
   ]
  },
  {
   "cell_type": "markdown",
   "id": "e8d6131b",
   "metadata": {},
   "source": [
    "### 베스트셀러 모든 메뉴 상세 페이지 들어가서 수집하기\n",
    "- 반복을 몇 번 해야할지 찾아내기(li의 개수만큼)\n",
    "- 첫 번째 메뉴 상세페이지 들어갔다가 나와서 두 번째 메뉴 클릭하기\n",
    "- 위의 과정을 마지막 메뉴까지 진행하기"
   ]
  },
  {
   "cell_type": "code",
   "execution_count": 46,
   "id": "de0be178",
   "metadata": {
    "ExecuteTime": {
     "end_time": "2022-12-20T01:31:38.988194Z",
     "start_time": "2022-12-20T01:31:38.960653Z"
    }
   },
   "outputs": [],
   "source": [
    "# 반복을 몇 번 해야할지 (li의 개수만큼)\n",
    "data_range = driver.find_elements(By.CSS_SELECTOR, value = '.menu_cont > li')"
   ]
  },
  {
   "cell_type": "code",
   "execution_count": 55,
   "id": "f12c6a76",
   "metadata": {
    "ExecuteTime": {
     "end_time": "2022-12-20T01:32:41.982615Z",
     "start_time": "2022-12-20T01:32:41.976631Z"
    }
   },
   "outputs": [
    {
     "name": "stdout",
     "output_type": "stream",
     "text": [
      "11\n"
     ]
    }
   ],
   "source": [
    "print(len(data_range))"
   ]
  },
  {
   "cell_type": "code",
   "execution_count": 89,
   "id": "14970eee",
   "metadata": {
    "ExecuteTime": {
     "end_time": "2022-12-20T01:51:53.747010Z",
     "start_time": "2022-12-20T01:51:51.896534Z"
    }
   },
   "outputs": [],
   "source": [
    "url ='https://www.hsd.co.kr/menu/menu_keyword?keyword=1'\n",
    "driver = wb.Chrome()\n",
    "driver.get(url)"
   ]
  },
  {
   "cell_type": "code",
   "execution_count": 93,
   "id": "76cf8cf9",
   "metadata": {
    "ExecuteTime": {
     "end_time": "2022-12-20T02:06:10.315271Z",
     "start_time": "2022-12-20T02:05:46.985662Z"
    }
   },
   "outputs": [],
   "source": [
    "cat_lst = []\n",
    "name_lst = []\n",
    "price_lst = []\n",
    "cont_lst = []\n",
    "\n",
    "for i in range(1,len(data_range)+1):\n",
    "    item = driver.find_element(By.CSS_SELECTOR, value=f'.menu_cont > li:nth-child({i})')\n",
    "    item.click() # 상세페이지로 들어감\n",
    "    cat_lst.append(driver.find_element(By.CSS_SELECTOR, value = '.he_tit>span:first-child').text)\n",
    "    name_lst.append(driver.find_element(By.CSS_SELECTOR, value = '.he_tit > .dp2').text)\n",
    "    price_lst.append(driver.find_element(By.CSS_SELECTOR, value = '.price > .fz_01').text)\n",
    "    cont_lst.append(driver.find_element(By.CSS_SELECTOR, value = '.account').text)\n",
    "    time.sleep(1.5)\n",
    "    driver.back()\n",
    "    "
   ]
  },
  {
   "cell_type": "code",
   "execution_count": 96,
   "id": "b1dae144",
   "metadata": {
    "ExecuteTime": {
     "end_time": "2022-12-20T02:08:09.910036Z",
     "start_time": "2022-12-20T02:08:09.897099Z"
    }
   },
   "outputs": [],
   "source": [
    "hansot_dict = {'분류':cat_lst, '메뉴이름':name_lst, '메뉴설명':cont_lst, '가격':price_lst}"
   ]
  },
  {
   "cell_type": "code",
   "execution_count": 97,
   "id": "dde5116a",
   "metadata": {
    "ExecuteTime": {
     "end_time": "2022-12-20T02:08:13.870862Z",
     "start_time": "2022-12-20T02:08:13.856898Z"
    },
    "collapsed": true
   },
   "outputs": [
    {
     "data": {
      "text/plain": [
       "{'분류': ['프리미엄',\n",
       "  '프리미엄',\n",
       "  '마요',\n",
       "  '마요',\n",
       "  '마요',\n",
       "  '볶음밥',\n",
       "  '볶음밥',\n",
       "  '모둠',\n",
       "  '모둠',\n",
       "  '고기고기',\n",
       "  '모둠'],\n",
       " '메뉴이름': ['매화',\n",
       "  '진달래',\n",
       "  '메가치킨마요',\n",
       "  '빅치킨마요',\n",
       "  '치킨마요',\n",
       "  '스팸 김치볶음밥',\n",
       "  '스팸철판볶음밥',\n",
       "  '숯불직화구이',\n",
       "  '동백',\n",
       "  '새치 고기고기',\n",
       "  '돈까스도련님'],\n",
       " '메뉴설명': ['12가지 다양한 반찬과 조미김, 미니생수가 함께 구성된 프리미엄 도시락으로 소불고기, 제육볶음, 새우후라이, 짭쪼름한 맛이 일품인 고등어 데리야끼 2조각이 구성된 든든한 도시락(※점포 식재 상황에 따라 연어(1조각) 또는 고등어(2조각)로 제공됩니다)',\n",
       "  '한솥 도시락 Top 5 메뉴 중 하나. 떡 햄버그, 돈까스, 새우튀김, 치킨 가라아게, 제육볶음이 모두 들어 있어 푸짐합니다. 생수와 조미 김이 함께 제공 됩니다.',\n",
       "  '[베스트&스테디셀러 SINCE 2003] 2003년에 한국 최초로 개발 출시한 한솥 대표 인기 메뉴입니다. 밥 위에 지단채와 슬라이스한 치킨가라아게를 올렸습니다. 따로 드리는 조미 김을 잘게 부수어 넣고 마요드레싱과 덮밥소스를 뿌린 후 비벼 먹는 맛이 일품입니다. 치킨마요의 치킨이 2.5배 증량된 메가 사이즈에 도전하세요! (밥 370g + 치킨 150g)',\n",
       "  '[베스트&스테디셀러 SINCE 2003] 2003년에 한국 최초로 개발 출시한 한솥 대표 인기 메뉴입니다. 밥 위에 지단채와 슬라이스한 치킨가라아게를 올렸습니다. 따로 드리는 조미 김을 잘게 부수어 넣고 마요드레싱과 덮밥소스를 뿌린 후 비벼 먹는 맛이 일품입니다. 치킨마요에 밥(+70g), 치킨(+15g), 소스(+10g) 모두 빅으로 푸짐하게 담았습니다. (밥 300g + 치킨 75g)',\n",
       "  '[베스트&스테디셀러 SINCE 2003] 2003년에 한국 최초로 개발 출시한 한솥 대표 인기 메뉴입니다. 밥 위에 지단채와 슬라이스한 치킨가라아게를 올렸습니다. 따로 드리는 조미 김을 잘게 부수어 넣고 마요드레싱과 덮밥소스를 뿌린 후 비벼 먹는 맛이 일품입니다. (밥 230g + 치킨 60g)',\n",
       "  '직화 가마솥 방식으로 지어 고슬고슬한 밥과 100% 국내산 김치를 먹기 좋은 크기로 송송 썰어 넣어 아삭아삭 씹는 맛이 좋으며, 자극적이지 않아 입맛 당기는 한국인의 소울푸드입니다.',\n",
       "  '매콤한 한솥철판볶음밥에 짭쪼름한 스팸을 올린 메뉴로 ‘찰떡궁합’의 맛을 느낄 수 있습니다',\n",
       "  '석쇠에 구워 숯불향이 가득한 직화구이와 다양한 반찬 정식도시락, 라유소스로 매콤한 풍미까지!',\n",
       "  '[베스트&스테디셀러 SINCE 2008] 연하고 부드러운 햄버그에 쫄깃한 떡을 넣은 떡햄버그와 탱글탱글한 식감이 살아있는 새우튀김, 호주산 소불고기, 한솥만의 명품 치킨, 해물 볼어묵, 각종 밑반찬은 물론 김, 타르타르소스가 들어간 도시락입니다.',\n",
       "  '새우튀김, 치킨가라아게, 불고기, 제육볶음으로 구성한 새.치.고기.고기 도시락입니다. 새우튀김은 흰다리새우(중하)가 통으로 들어가 탱글탱글한 식감이 살아있으며 치킨가라아게는 부드러운 순 닭다리살을 간장으로 가미한 후 튀겨내 짭조름한 감칠맛이 좋습니다.',\n",
       "  '[베스트&스테디셀러 SINCE 1994] 도련님 도시락의 오징어까스 대신 두툼한 돼지고기 등심으로 만든 돈까스를 넣어 구성했습니다. 한솥의 대표 메뉴입니다.'],\n",
       " '가격': ['10,000',\n",
       "  '7,500',\n",
       "  '5,800',\n",
       "  '',\n",
       "  '3,500',\n",
       "  '4,700',\n",
       "  '4,500',\n",
       "  '6,500',\n",
       "  '5,800',\n",
       "  '6,700',\n",
       "  '4,500']}"
      ]
     },
     "execution_count": 97,
     "metadata": {},
     "output_type": "execute_result"
    }
   ],
   "source": [
    "hansot_dict"
   ]
  },
  {
   "cell_type": "code",
   "execution_count": 99,
   "id": "44f4d352",
   "metadata": {
    "ExecuteTime": {
     "end_time": "2022-12-20T02:08:37.500141Z",
     "start_time": "2022-12-20T02:08:37.473225Z"
    }
   },
   "outputs": [
    {
     "data": {
      "text/html": [
       "<div>\n",
       "<style scoped>\n",
       "    .dataframe tbody tr th:only-of-type {\n",
       "        vertical-align: middle;\n",
       "    }\n",
       "\n",
       "    .dataframe tbody tr th {\n",
       "        vertical-align: top;\n",
       "    }\n",
       "\n",
       "    .dataframe thead th {\n",
       "        text-align: right;\n",
       "    }\n",
       "</style>\n",
       "<table border=\"1\" class=\"dataframe\">\n",
       "  <thead>\n",
       "    <tr style=\"text-align: right;\">\n",
       "      <th></th>\n",
       "      <th>분류</th>\n",
       "      <th>메뉴이름</th>\n",
       "      <th>메뉴설명</th>\n",
       "      <th>가격</th>\n",
       "    </tr>\n",
       "  </thead>\n",
       "  <tbody>\n",
       "    <tr>\n",
       "      <th>0</th>\n",
       "      <td>프리미엄</td>\n",
       "      <td>매화</td>\n",
       "      <td>12가지 다양한 반찬과 조미김, 미니생수가 함께 구성된 프리미엄 도시락으로 소불고기...</td>\n",
       "      <td>10,000</td>\n",
       "    </tr>\n",
       "    <tr>\n",
       "      <th>1</th>\n",
       "      <td>프리미엄</td>\n",
       "      <td>진달래</td>\n",
       "      <td>한솥 도시락 Top 5 메뉴 중 하나. 떡 햄버그, 돈까스, 새우튀김, 치킨 가라아...</td>\n",
       "      <td>7,500</td>\n",
       "    </tr>\n",
       "    <tr>\n",
       "      <th>2</th>\n",
       "      <td>마요</td>\n",
       "      <td>메가치킨마요</td>\n",
       "      <td>[베스트&amp;스테디셀러 SINCE 2003] 2003년에 한국 최초로 개발 출시한 한솥...</td>\n",
       "      <td>5,800</td>\n",
       "    </tr>\n",
       "    <tr>\n",
       "      <th>3</th>\n",
       "      <td>마요</td>\n",
       "      <td>빅치킨마요</td>\n",
       "      <td>[베스트&amp;스테디셀러 SINCE 2003] 2003년에 한국 최초로 개발 출시한 한솥...</td>\n",
       "      <td></td>\n",
       "    </tr>\n",
       "    <tr>\n",
       "      <th>4</th>\n",
       "      <td>마요</td>\n",
       "      <td>치킨마요</td>\n",
       "      <td>[베스트&amp;스테디셀러 SINCE 2003] 2003년에 한국 최초로 개발 출시한 한솥...</td>\n",
       "      <td>3,500</td>\n",
       "    </tr>\n",
       "    <tr>\n",
       "      <th>5</th>\n",
       "      <td>볶음밥</td>\n",
       "      <td>스팸 김치볶음밥</td>\n",
       "      <td>직화 가마솥 방식으로 지어 고슬고슬한 밥과 100% 국내산 김치를 먹기 좋은 크기로...</td>\n",
       "      <td>4,700</td>\n",
       "    </tr>\n",
       "    <tr>\n",
       "      <th>6</th>\n",
       "      <td>볶음밥</td>\n",
       "      <td>스팸철판볶음밥</td>\n",
       "      <td>매콤한 한솥철판볶음밥에 짭쪼름한 스팸을 올린 메뉴로 ‘찰떡궁합’의 맛을 느낄 수 있습니다</td>\n",
       "      <td>4,500</td>\n",
       "    </tr>\n",
       "    <tr>\n",
       "      <th>7</th>\n",
       "      <td>모둠</td>\n",
       "      <td>숯불직화구이</td>\n",
       "      <td>석쇠에 구워 숯불향이 가득한 직화구이와 다양한 반찬 정식도시락, 라유소스로 매콤한 ...</td>\n",
       "      <td>6,500</td>\n",
       "    </tr>\n",
       "    <tr>\n",
       "      <th>8</th>\n",
       "      <td>모둠</td>\n",
       "      <td>동백</td>\n",
       "      <td>[베스트&amp;스테디셀러 SINCE 2008] 연하고 부드러운 햄버그에 쫄깃한 떡을 넣은...</td>\n",
       "      <td>5,800</td>\n",
       "    </tr>\n",
       "    <tr>\n",
       "      <th>9</th>\n",
       "      <td>고기고기</td>\n",
       "      <td>새치 고기고기</td>\n",
       "      <td>새우튀김, 치킨가라아게, 불고기, 제육볶음으로 구성한 새.치.고기.고기 도시락입니다...</td>\n",
       "      <td>6,700</td>\n",
       "    </tr>\n",
       "    <tr>\n",
       "      <th>10</th>\n",
       "      <td>모둠</td>\n",
       "      <td>돈까스도련님</td>\n",
       "      <td>[베스트&amp;스테디셀러 SINCE 1994] 도련님 도시락의 오징어까스 대신 두툼한 돼...</td>\n",
       "      <td>4,500</td>\n",
       "    </tr>\n",
       "  </tbody>\n",
       "</table>\n",
       "</div>"
      ],
      "text/plain": [
       "      분류      메뉴이름                                               메뉴설명      가격\n",
       "0   프리미엄        매화  12가지 다양한 반찬과 조미김, 미니생수가 함께 구성된 프리미엄 도시락으로 소불고기...  10,000\n",
       "1   프리미엄       진달래  한솥 도시락 Top 5 메뉴 중 하나. 떡 햄버그, 돈까스, 새우튀김, 치킨 가라아...   7,500\n",
       "2     마요    메가치킨마요  [베스트&스테디셀러 SINCE 2003] 2003년에 한국 최초로 개발 출시한 한솥...   5,800\n",
       "3     마요     빅치킨마요  [베스트&스테디셀러 SINCE 2003] 2003년에 한국 최초로 개발 출시한 한솥...        \n",
       "4     마요      치킨마요  [베스트&스테디셀러 SINCE 2003] 2003년에 한국 최초로 개발 출시한 한솥...   3,500\n",
       "5    볶음밥  스팸 김치볶음밥  직화 가마솥 방식으로 지어 고슬고슬한 밥과 100% 국내산 김치를 먹기 좋은 크기로...   4,700\n",
       "6    볶음밥   스팸철판볶음밥  매콤한 한솥철판볶음밥에 짭쪼름한 스팸을 올린 메뉴로 ‘찰떡궁합’의 맛을 느낄 수 있습니다   4,500\n",
       "7     모둠    숯불직화구이  석쇠에 구워 숯불향이 가득한 직화구이와 다양한 반찬 정식도시락, 라유소스로 매콤한 ...   6,500\n",
       "8     모둠        동백  [베스트&스테디셀러 SINCE 2008] 연하고 부드러운 햄버그에 쫄깃한 떡을 넣은...   5,800\n",
       "9   고기고기   새치 고기고기  새우튀김, 치킨가라아게, 불고기, 제육볶음으로 구성한 새.치.고기.고기 도시락입니다...   6,700\n",
       "10    모둠    돈까스도련님  [베스트&스테디셀러 SINCE 1994] 도련님 도시락의 오징어까스 대신 두툼한 돼...   4,500"
      ]
     },
     "execution_count": 99,
     "metadata": {},
     "output_type": "execute_result"
    }
   ],
   "source": [
    "hansot_best_df = pd.DataFrame(hansot_dict)\n",
    "hansot_best_df"
   ]
  }
 ],
 "metadata": {
  "kernelspec": {
   "display_name": "Python 3 (ipykernel)",
   "language": "python",
   "name": "python3"
  },
  "language_info": {
   "codemirror_mode": {
    "name": "ipython",
    "version": 3
   },
   "file_extension": ".py",
   "mimetype": "text/x-python",
   "name": "python",
   "nbconvert_exporter": "python",
   "pygments_lexer": "ipython3",
   "version": "3.9.13"
  },
  "toc": {
   "base_numbering": 1,
   "nav_menu": {},
   "number_sections": true,
   "sideBar": true,
   "skip_h1_title": false,
   "title_cell": "Table of Contents",
   "title_sidebar": "Contents",
   "toc_cell": false,
   "toc_position": {},
   "toc_section_display": true,
   "toc_window_display": false
  }
 },
 "nbformat": 4,
 "nbformat_minor": 5
}
