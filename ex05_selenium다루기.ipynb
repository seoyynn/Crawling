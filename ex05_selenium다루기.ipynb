{
 "cells": [
  {
   "cell_type": "markdown",
   "id": "b2afb2e2",
   "metadata": {},
   "source": [
    "### requests. BeautifulSoup 만 사용했을때의 한계\n",
    "- 자바스크립트로 동적으로 생선된 정보는 가져올 수 없다는 것"
   ]
  },
  {
   "cell_type": "markdown",
   "id": "445dd5f4",
   "metadata": {},
   "source": [
    "### Selenium\n",
    " : 동적인 페이지를 제어하고 내용을 가져오기 위한 라이브러리\n",
    " : 웹 자동화 테스트 도구\n",
    " : 브라우저를 제어할 수 있다 - 키보드 입력, 클릭, 스크롤, 이전페이지 이동 등등\n",
    " \n",
    "#### 셀레니움의 필요성\n",
    " - 1. 자바스크림트가 동적으로 만든 데이터를 크롤링하기\n",
    " - 2. 사이트의 다양한 html요소에 클릭, 키보드 입력 등 이벤트 주기, 그 안에 있는 데이터도 추출할 수 있음\n",
    " \n",
    "#### 사용하기 위한 환경 구축\n",
    " - 1. 셀레니움 라이브러리 설치\n",
    " - 2. webdriver 파일 설치 -> 현재 크롤링 폴더에 저장\n",
    " - 웹 드라이버를 설치할 때 , 크롬 버전과 동일해야함\n",
    " - 버전확인방법 : 크롬 브라우저 설정 > 크롬 정보 메뉴 > 버전확인"
   ]
  },
  {
   "cell_type": "code",
   "execution_count": 28,
   "id": "1b75802c",
   "metadata": {
    "ExecuteTime": {
     "end_time": "2022-12-19T01:30:25.283206Z",
     "start_time": "2022-12-19T01:30:22.103746Z"
    }
   },
   "outputs": [
    {
     "name": "stdout",
     "output_type": "stream",
     "text": [
      "Requirement already satisfied: selenium in c:\\users\\smhrd\\anaconda3\\lib\\site-packages (4.7.2)\n",
      "Requirement already satisfied: trio~=0.17 in c:\\users\\smhrd\\anaconda3\\lib\\site-packages (from selenium) (0.22.0)\n",
      "Requirement already satisfied: urllib3[socks]~=1.26 in c:\\users\\smhrd\\anaconda3\\lib\\site-packages (from selenium) (1.26.11)\n",
      "Requirement already satisfied: trio-websocket~=0.9 in c:\\users\\smhrd\\anaconda3\\lib\\site-packages (from selenium) (0.9.2)\n",
      "Requirement already satisfied: certifi>=2021.10.8 in c:\\users\\smhrd\\anaconda3\\lib\\site-packages (from selenium) (2022.9.14)\n",
      "Requirement already satisfied: exceptiongroup>=1.0.0rc9 in c:\\users\\smhrd\\anaconda3\\lib\\site-packages (from trio~=0.17->selenium) (1.0.4)\n",
      "Requirement already satisfied: outcome in c:\\users\\smhrd\\anaconda3\\lib\\site-packages (from trio~=0.17->selenium) (1.2.0)\n",
      "Requirement already satisfied: idna in c:\\users\\smhrd\\anaconda3\\lib\\site-packages (from trio~=0.17->selenium) (3.3)\n",
      "Requirement already satisfied: cffi>=1.14 in c:\\users\\smhrd\\anaconda3\\lib\\site-packages (from trio~=0.17->selenium) (1.15.1)\n",
      "Requirement already satisfied: sortedcontainers in c:\\users\\smhrd\\anaconda3\\lib\\site-packages (from trio~=0.17->selenium) (2.4.0)\n",
      "Requirement already satisfied: sniffio in c:\\users\\smhrd\\anaconda3\\lib\\site-packages (from trio~=0.17->selenium) (1.2.0)\n",
      "Requirement already satisfied: attrs>=19.2.0 in c:\\users\\smhrd\\anaconda3\\lib\\site-packages (from trio~=0.17->selenium) (21.4.0)\n",
      "Requirement already satisfied: async-generator>=1.9 in c:\\users\\smhrd\\anaconda3\\lib\\site-packages (from trio~=0.17->selenium) (1.10)\n",
      "Requirement already satisfied: wsproto>=0.14 in c:\\users\\smhrd\\anaconda3\\lib\\site-packages (from trio-websocket~=0.9->selenium) (1.2.0)\n",
      "Requirement already satisfied: PySocks!=1.5.7,<2.0,>=1.5.6 in c:\\users\\smhrd\\anaconda3\\lib\\site-packages (from urllib3[socks]~=1.26->selenium) (1.7.1)\n",
      "Requirement already satisfied: pycparser in c:\\users\\smhrd\\anaconda3\\lib\\site-packages (from cffi>=1.14->trio~=0.17->selenium) (2.21)\n",
      "Requirement already satisfied: h11<1,>=0.9.0 in c:\\users\\smhrd\\anaconda3\\lib\\site-packages (from wsproto>=0.14->trio-websocket~=0.9->selenium) (0.14.0)\n"
     ]
    }
   ],
   "source": [
    "!pip install selenium\n",
    "# 아나콘다 프롬프트에서 작성할때에는 !를 빼고 작성"
   ]
  },
  {
   "cell_type": "markdown",
   "id": "b441927d",
   "metadata": {},
   "source": [
    "#### Selenium 사용하기"
   ]
  },
  {
   "cell_type": "code",
   "execution_count": 29,
   "id": "3903a069",
   "metadata": {
    "ExecuteTime": {
     "end_time": "2022-12-19T01:30:26.055216Z",
     "start_time": "2022-12-19T01:30:26.041225Z"
    }
   },
   "outputs": [],
   "source": [
    "# 도구 임폴트\n",
    "# chromedriver.exe 를 제어 및 실행 시켜주는 라이브러리\n",
    "from selenium import webdriver as wb\n",
    "\n",
    "# 키보드의 값(enter, space bar, ctrl, a키보드값)을 제어할 수 있는 라이브러리\n",
    "from selenium.webdriver.common.keys import Keys\n",
    "\n",
    "# html요소를 접근하는 방식을 제공하는 라이브러리\n",
    "# css선택자에 접근, 태그이름에 접근, 클래스명기준 접근, 아이디명접근 ,,\n",
    "from selenium.webdriver.common.by import By"
   ]
  },
  {
   "cell_type": "markdown",
   "id": "6da63cc5",
   "metadata": {},
   "source": [
    "#### 페이지 요청"
   ]
  },
  {
   "cell_type": "code",
   "execution_count": 30,
   "id": "e8cab2f3",
   "metadata": {
    "ExecuteTime": {
     "end_time": "2022-12-19T01:30:28.703294Z",
     "start_time": "2022-12-19T01:30:27.201847Z"
    }
   },
   "outputs": [],
   "source": [
    "# wb.Chrome(드라이버 경로 설정)\n",
    "# driver = wb.Chrome('./chromedriver.exe') 같은 경로에 있으면 생략가능\n",
    "\n",
    "url = 'https://www.naver.com/'\n",
    "\n",
    "# 크롬 브라우저 연결 설정\n",
    "# 제어할 수 있는 브라우저가 실행, 브라우저를 제어하고 접근하기 위해 driver라는 변수에 저장해서 사용한다\n",
    "driver = wb.Chrome()\n",
    "\n",
    "# url주소에 해당하는 웹 페이지를 요청하는 함수\n",
    "driver.get(url)"
   ]
  },
  {
   "cell_type": "markdown",
   "id": "4fa04de8",
   "metadata": {},
   "source": [
    "#### 특정 html요소 접근(1개)\n",
    " - find_element(어떤 선택자 종류, value = '벨류값')"
   ]
  },
  {
   "cell_type": "code",
   "execution_count": 31,
   "id": "899db902",
   "metadata": {
    "ExecuteTime": {
     "end_time": "2022-12-19T01:30:28.763134Z",
     "start_time": "2022-12-19T01:30:28.706286Z"
    }
   },
   "outputs": [
    {
     "data": {
      "text/plain": [
       "<selenium.webdriver.remote.webelement.WebElement (session=\"54a1da9600a4c06b35d3713d24a7e871\", element=\"c2768f39-2319-4276-ae76-2ac03da1856e\")>"
      ]
     },
     "execution_count": 31,
     "metadata": {},
     "output_type": "execute_result"
    }
   ],
   "source": [
    "# driver.find_element() : 웹 문서에서 특정 html요소 1개에 접근하는 함수\n",
    "# 검색창(input) 요소 접근하기\n",
    "driver.find_element(by='id', value = 'query')"
   ]
  },
  {
   "cell_type": "code",
   "execution_count": 32,
   "id": "7752c50e",
   "metadata": {
    "ExecuteTime": {
     "end_time": "2022-12-19T01:30:30.267056Z",
     "start_time": "2022-12-19T01:30:28.765129Z"
    }
   },
   "outputs": [],
   "source": [
    "# 검색방법 1\n",
    "# by, value를 활용한 html요소 접근\n",
    "# 검색창에 키보드입력값 보내기\n",
    "# enter기능 연결\n",
    "driver.find_element(by='id', value = 'query').send_keys('치즈돈까스\\n')"
   ]
  },
  {
   "cell_type": "code",
   "execution_count": 33,
   "id": "05b7c9e5",
   "metadata": {
    "ExecuteTime": {
     "end_time": "2022-12-19T01:30:30.387738Z",
     "start_time": "2022-12-19T01:30:30.270049Z"
    }
   },
   "outputs": [
    {
     "ename": "ElementNotInteractableException",
     "evalue": "Message: element not interactable\n  (Session info: chrome=108.0.5359.99)\nStacktrace:\nBacktrace:\n\t(No symbol) [0x0099F243]\n\t(No symbol) [0x00927FD1]\n\t(No symbol) [0x0081CF10]\n\t(No symbol) [0x0084795E]\n\t(No symbol) [0x008470E5]\n\t(No symbol) [0x0086858C]\n\t(No symbol) [0x00842BFF]\n\t(No symbol) [0x00868804]\n\t(No symbol) [0x0087C9EB]\n\t(No symbol) [0x00868386]\n\t(No symbol) [0x0084163C]\n\t(No symbol) [0x0084269D]\n\tGetHandleVerifier [0x00C39A22+2655074]\n\tGetHandleVerifier [0x00C2CA24+2601828]\n\tGetHandleVerifier [0x00A48C0A+619850]\n\tGetHandleVerifier [0x00A47830+614768]\n\t(No symbol) [0x009305FC]\n\t(No symbol) [0x00935968]\n\t(No symbol) [0x00935A55]\n\t(No symbol) [0x0094051B]\n\tBaseThreadInitThunk [0x760D00F9+25]\n\tRtlGetAppContainerNamedObjectPath [0x77217BBE+286]\n\tRtlGetAppContainerNamedObjectPath [0x77217B8E+238]\n",
     "output_type": "error",
     "traceback": [
      "\u001b[1;31m---------------------------------------------------------------------------\u001b[0m",
      "\u001b[1;31mElementNotInteractableException\u001b[0m           Traceback (most recent call last)",
      "\u001b[1;32m~\\AppData\\Local\\Temp\\ipykernel_10532\\559974995.py\u001b[0m in \u001b[0;36m<module>\u001b[1;34m\u001b[0m\n\u001b[0;32m      1\u001b[0m \u001b[1;31m# 검색방법 2\u001b[0m\u001b[1;33m\u001b[0m\u001b[1;33m\u001b[0m\u001b[0m\n\u001b[0;32m      2\u001b[0m \u001b[1;31m# By.ID 를 활용한 html요소 접근\u001b[0m\u001b[1;33m\u001b[0m\u001b[1;33m\u001b[0m\u001b[0m\n\u001b[1;32m----> 3\u001b[1;33m \u001b[0mdriver\u001b[0m\u001b[1;33m.\u001b[0m\u001b[0mfind_element\u001b[0m\u001b[1;33m(\u001b[0m\u001b[0mBy\u001b[0m\u001b[1;33m.\u001b[0m\u001b[0mID\u001b[0m\u001b[1;33m,\u001b[0m \u001b[0mvalue\u001b[0m \u001b[1;33m=\u001b[0m \u001b[1;34m'query'\u001b[0m\u001b[1;33m)\u001b[0m\u001b[1;33m.\u001b[0m\u001b[0msend_keys\u001b[0m\u001b[1;33m(\u001b[0m\u001b[1;34m'배고파\\n'\u001b[0m\u001b[1;33m)\u001b[0m\u001b[1;33m\u001b[0m\u001b[1;33m\u001b[0m\u001b[0m\n\u001b[0m",
      "\u001b[1;32m~\\anaconda3\\lib\\site-packages\\selenium\\webdriver\\remote\\webelement.py\u001b[0m in \u001b[0;36msend_keys\u001b[1;34m(self, *value)\u001b[0m\n\u001b[0;32m    231\u001b[0m                 \u001b[0mvalue\u001b[0m \u001b[1;33m=\u001b[0m \u001b[1;34m\"\\n\"\u001b[0m\u001b[1;33m.\u001b[0m\u001b[0mjoin\u001b[0m\u001b[1;33m(\u001b[0m\u001b[0mremote_files\u001b[0m\u001b[1;33m)\u001b[0m\u001b[1;33m\u001b[0m\u001b[1;33m\u001b[0m\u001b[0m\n\u001b[0;32m    232\u001b[0m \u001b[1;33m\u001b[0m\u001b[0m\n\u001b[1;32m--> 233\u001b[1;33m         self._execute(\n\u001b[0m\u001b[0;32m    234\u001b[0m             \u001b[0mCommand\u001b[0m\u001b[1;33m.\u001b[0m\u001b[0mSEND_KEYS_TO_ELEMENT\u001b[0m\u001b[1;33m,\u001b[0m \u001b[1;33m{\u001b[0m\u001b[1;34m\"text\"\u001b[0m\u001b[1;33m:\u001b[0m \u001b[1;34m\"\"\u001b[0m\u001b[1;33m.\u001b[0m\u001b[0mjoin\u001b[0m\u001b[1;33m(\u001b[0m\u001b[0mkeys_to_typing\u001b[0m\u001b[1;33m(\u001b[0m\u001b[0mvalue\u001b[0m\u001b[1;33m)\u001b[0m\u001b[1;33m)\u001b[0m\u001b[1;33m,\u001b[0m \u001b[1;34m\"value\"\u001b[0m\u001b[1;33m:\u001b[0m \u001b[0mkeys_to_typing\u001b[0m\u001b[1;33m(\u001b[0m\u001b[0mvalue\u001b[0m\u001b[1;33m)\u001b[0m\u001b[1;33m}\u001b[0m\u001b[1;33m\u001b[0m\u001b[1;33m\u001b[0m\u001b[0m\n\u001b[0;32m    235\u001b[0m         )\n",
      "\u001b[1;32m~\\anaconda3\\lib\\site-packages\\selenium\\webdriver\\remote\\webelement.py\u001b[0m in \u001b[0;36m_execute\u001b[1;34m(self, command, params)\u001b[0m\n\u001b[0;32m    408\u001b[0m             \u001b[0mparams\u001b[0m \u001b[1;33m=\u001b[0m \u001b[1;33m{\u001b[0m\u001b[1;33m}\u001b[0m\u001b[1;33m\u001b[0m\u001b[1;33m\u001b[0m\u001b[0m\n\u001b[0;32m    409\u001b[0m         \u001b[0mparams\u001b[0m\u001b[1;33m[\u001b[0m\u001b[1;34m\"id\"\u001b[0m\u001b[1;33m]\u001b[0m \u001b[1;33m=\u001b[0m \u001b[0mself\u001b[0m\u001b[1;33m.\u001b[0m\u001b[0m_id\u001b[0m\u001b[1;33m\u001b[0m\u001b[1;33m\u001b[0m\u001b[0m\n\u001b[1;32m--> 410\u001b[1;33m         \u001b[1;32mreturn\u001b[0m \u001b[0mself\u001b[0m\u001b[1;33m.\u001b[0m\u001b[0m_parent\u001b[0m\u001b[1;33m.\u001b[0m\u001b[0mexecute\u001b[0m\u001b[1;33m(\u001b[0m\u001b[0mcommand\u001b[0m\u001b[1;33m,\u001b[0m \u001b[0mparams\u001b[0m\u001b[1;33m)\u001b[0m\u001b[1;33m\u001b[0m\u001b[1;33m\u001b[0m\u001b[0m\n\u001b[0m\u001b[0;32m    411\u001b[0m \u001b[1;33m\u001b[0m\u001b[0m\n\u001b[0;32m    412\u001b[0m     \u001b[1;32mdef\u001b[0m \u001b[0mfind_element\u001b[0m\u001b[1;33m(\u001b[0m\u001b[0mself\u001b[0m\u001b[1;33m,\u001b[0m \u001b[0mby\u001b[0m\u001b[1;33m=\u001b[0m\u001b[0mBy\u001b[0m\u001b[1;33m.\u001b[0m\u001b[0mID\u001b[0m\u001b[1;33m,\u001b[0m \u001b[0mvalue\u001b[0m\u001b[1;33m=\u001b[0m\u001b[1;32mNone\u001b[0m\u001b[1;33m)\u001b[0m \u001b[1;33m->\u001b[0m \u001b[0mWebElement\u001b[0m\u001b[1;33m:\u001b[0m\u001b[1;33m\u001b[0m\u001b[1;33m\u001b[0m\u001b[0m\n",
      "\u001b[1;32m~\\anaconda3\\lib\\site-packages\\selenium\\webdriver\\remote\\webdriver.py\u001b[0m in \u001b[0;36mexecute\u001b[1;34m(self, driver_command, params)\u001b[0m\n\u001b[0;32m    442\u001b[0m         \u001b[0mresponse\u001b[0m \u001b[1;33m=\u001b[0m \u001b[0mself\u001b[0m\u001b[1;33m.\u001b[0m\u001b[0mcommand_executor\u001b[0m\u001b[1;33m.\u001b[0m\u001b[0mexecute\u001b[0m\u001b[1;33m(\u001b[0m\u001b[0mdriver_command\u001b[0m\u001b[1;33m,\u001b[0m \u001b[0mparams\u001b[0m\u001b[1;33m)\u001b[0m\u001b[1;33m\u001b[0m\u001b[1;33m\u001b[0m\u001b[0m\n\u001b[0;32m    443\u001b[0m         \u001b[1;32mif\u001b[0m \u001b[0mresponse\u001b[0m\u001b[1;33m:\u001b[0m\u001b[1;33m\u001b[0m\u001b[1;33m\u001b[0m\u001b[0m\n\u001b[1;32m--> 444\u001b[1;33m             \u001b[0mself\u001b[0m\u001b[1;33m.\u001b[0m\u001b[0merror_handler\u001b[0m\u001b[1;33m.\u001b[0m\u001b[0mcheck_response\u001b[0m\u001b[1;33m(\u001b[0m\u001b[0mresponse\u001b[0m\u001b[1;33m)\u001b[0m\u001b[1;33m\u001b[0m\u001b[1;33m\u001b[0m\u001b[0m\n\u001b[0m\u001b[0;32m    445\u001b[0m             \u001b[0mresponse\u001b[0m\u001b[1;33m[\u001b[0m\u001b[1;34m\"value\"\u001b[0m\u001b[1;33m]\u001b[0m \u001b[1;33m=\u001b[0m \u001b[0mself\u001b[0m\u001b[1;33m.\u001b[0m\u001b[0m_unwrap_value\u001b[0m\u001b[1;33m(\u001b[0m\u001b[0mresponse\u001b[0m\u001b[1;33m.\u001b[0m\u001b[0mget\u001b[0m\u001b[1;33m(\u001b[0m\u001b[1;34m\"value\"\u001b[0m\u001b[1;33m,\u001b[0m \u001b[1;32mNone\u001b[0m\u001b[1;33m)\u001b[0m\u001b[1;33m)\u001b[0m\u001b[1;33m\u001b[0m\u001b[1;33m\u001b[0m\u001b[0m\n\u001b[0;32m    446\u001b[0m             \u001b[1;32mreturn\u001b[0m \u001b[0mresponse\u001b[0m\u001b[1;33m\u001b[0m\u001b[1;33m\u001b[0m\u001b[0m\n",
      "\u001b[1;32m~\\anaconda3\\lib\\site-packages\\selenium\\webdriver\\remote\\errorhandler.py\u001b[0m in \u001b[0;36mcheck_response\u001b[1;34m(self, response)\u001b[0m\n\u001b[0;32m    247\u001b[0m                 \u001b[0malert_text\u001b[0m \u001b[1;33m=\u001b[0m \u001b[0mvalue\u001b[0m\u001b[1;33m[\u001b[0m\u001b[1;34m\"alert\"\u001b[0m\u001b[1;33m]\u001b[0m\u001b[1;33m.\u001b[0m\u001b[0mget\u001b[0m\u001b[1;33m(\u001b[0m\u001b[1;34m\"text\"\u001b[0m\u001b[1;33m)\u001b[0m\u001b[1;33m\u001b[0m\u001b[1;33m\u001b[0m\u001b[0m\n\u001b[0;32m    248\u001b[0m             \u001b[1;32mraise\u001b[0m \u001b[0mexception_class\u001b[0m\u001b[1;33m(\u001b[0m\u001b[0mmessage\u001b[0m\u001b[1;33m,\u001b[0m \u001b[0mscreen\u001b[0m\u001b[1;33m,\u001b[0m \u001b[0mstacktrace\u001b[0m\u001b[1;33m,\u001b[0m \u001b[0malert_text\u001b[0m\u001b[1;33m)\u001b[0m  \u001b[1;31m# type: ignore[call-arg]  # mypy is not smart enough here\u001b[0m\u001b[1;33m\u001b[0m\u001b[1;33m\u001b[0m\u001b[0m\n\u001b[1;32m--> 249\u001b[1;33m         \u001b[1;32mraise\u001b[0m \u001b[0mexception_class\u001b[0m\u001b[1;33m(\u001b[0m\u001b[0mmessage\u001b[0m\u001b[1;33m,\u001b[0m \u001b[0mscreen\u001b[0m\u001b[1;33m,\u001b[0m \u001b[0mstacktrace\u001b[0m\u001b[1;33m)\u001b[0m\u001b[1;33m\u001b[0m\u001b[1;33m\u001b[0m\u001b[0m\n\u001b[0m",
      "\u001b[1;31mElementNotInteractableException\u001b[0m: Message: element not interactable\n  (Session info: chrome=108.0.5359.99)\nStacktrace:\nBacktrace:\n\t(No symbol) [0x0099F243]\n\t(No symbol) [0x00927FD1]\n\t(No symbol) [0x0081CF10]\n\t(No symbol) [0x0084795E]\n\t(No symbol) [0x008470E5]\n\t(No symbol) [0x0086858C]\n\t(No symbol) [0x00842BFF]\n\t(No symbol) [0x00868804]\n\t(No symbol) [0x0087C9EB]\n\t(No symbol) [0x00868386]\n\t(No symbol) [0x0084163C]\n\t(No symbol) [0x0084269D]\n\tGetHandleVerifier [0x00C39A22+2655074]\n\tGetHandleVerifier [0x00C2CA24+2601828]\n\tGetHandleVerifier [0x00A48C0A+619850]\n\tGetHandleVerifier [0x00A47830+614768]\n\t(No symbol) [0x009305FC]\n\t(No symbol) [0x00935968]\n\t(No symbol) [0x00935A55]\n\t(No symbol) [0x0094051B]\n\tBaseThreadInitThunk [0x760D00F9+25]\n\tRtlGetAppContainerNamedObjectPath [0x77217BBE+286]\n\tRtlGetAppContainerNamedObjectPath [0x77217B8E+238]\n"
     ]
    }
   ],
   "source": [
    "# 검색방법 2\n",
    "# By.ID 를 활용한 html요소 접근\n",
    "driver.find_element(By.ID, value = 'query').send_keys('배고파\\n')"
   ]
  },
  {
   "cell_type": "code",
   "execution_count": null,
   "id": "d4824272",
   "metadata": {
    "ExecuteTime": {
     "end_time": "2022-12-19T01:30:30.390729Z",
     "start_time": "2022-12-19T01:30:30.390729Z"
    }
   },
   "outputs": [],
   "source": [
    "# 검색방법 3\n",
    "# By.CSS_SELECTOR --> id값에 접근\n",
    "driver.find_element(By.CSS_SELECTOR, value = '#query').send_keys('치즈돈까스\\n')"
   ]
  },
  {
   "cell_type": "code",
   "execution_count": null,
   "id": "c826a748",
   "metadata": {
    "ExecuteTime": {
     "end_time": "2022-12-19T01:30:30.391728Z",
     "start_time": "2022-12-19T01:30:30.391728Z"
    }
   },
   "outputs": [],
   "source": [
    "# 검색방법 4\n",
    "driver = wb.Chrome()\n",
    "driver.get(url)\n",
    "driver.find_element(By.CSS_SELECTOR, value = '#query').send_keys('치즈돈까스')\n",
    "\n",
    "# 검색버튼 요소 접근하기\n",
    "driver.find_element(By.CSS_SELECTOR, value = '#search_btn').click()"
   ]
  },
  {
   "cell_type": "markdown",
   "id": "2f681ab2",
   "metadata": {},
   "source": [
    "#### 해당 태그의 여러 요소를 접근하는 함수(여러개)\n",
    "- find_elements()"
   ]
  },
  {
   "cell_type": "code",
   "execution_count": 34,
   "id": "56934ef4",
   "metadata": {
    "ExecuteTime": {
     "end_time": "2022-12-19T01:30:31.378468Z",
     "start_time": "2022-12-19T01:30:30.658657Z"
    }
   },
   "outputs": [
    {
     "data": {
      "text/plain": [
       "'당당한 치즈돈까스 960gx8팩 업소용'"
      ]
     },
     "execution_count": 34,
     "metadata": {},
     "output_type": "execute_result"
    }
   ],
   "source": [
    "# 치즈돈까스 상품명에 접근해보기\n",
    "products = driver.find_elements(By.CSS_SELECTOR, value = '.product_info > a.title')\n",
    "products[0].text # webelement.text : html객체 내의 텍스트 내용을 접근하는 키워드 -> 반환값은 str"
   ]
  },
  {
   "cell_type": "code",
   "execution_count": 35,
   "id": "ad68e47f",
   "metadata": {
    "ExecuteTime": {
     "end_time": "2022-12-19T01:30:32.648593Z",
     "start_time": "2022-12-19T01:30:32.497865Z"
    }
   },
   "outputs": [
    {
     "name": "stdout",
     "output_type": "stream",
     "text": [
      "당당한 치즈돈까스 960gx8팩 업소용\n",
      "진푸드 수제치즈돈까스1.8kgx4개 도매업소용\n",
      "옥주부 제주돼지 돈까스10팩 등심돈까스 치즈돈까스 특제소스\n",
      "삼형제고기 돈까스 수제 등심 치즈돈까스 옛날 경양식 냉동\n",
      "옥주부 치즈 돈까스 14팩[치즈 14개+감귤 7개+토마토 7개]\n",
      "유혜광 수제돈까스 통 등심 치즈 안심 치킨 생선까스 돈까스소스 매운맛소스 전문점 퀄리티\n",
      "옥주부 제주돼지 통까스 등심돈까스15개 치즈돈까스5개 소스\n",
      "풀무원 돈카츠 3봉 통등심 돈카츠 블럭치즈돈카츠\n",
      "\n",
      "\n",
      "\n",
      "\n",
      "\n",
      "\n",
      "\n",
      "\n"
     ]
    }
   ],
   "source": [
    "for i in products:\n",
    "    print(i.text) # i 요소 1개.text"
   ]
  },
  {
   "cell_type": "code",
   "execution_count": 48,
   "id": "b7622fa3",
   "metadata": {
    "ExecuteTime": {
     "end_time": "2022-12-19T01:33:05.496731Z",
     "start_time": "2022-12-19T01:33:05.449725Z"
    }
   },
   "outputs": [],
   "source": [
    "# 페이지 스크롤 내리기 ! --> Keys활용\n",
    "# 스크롤 내리는 방법 : Arrow Down(조금씩 내리기), PAGE_DOWN(보여지는 페이지에서 다음 페이지로 다운),\n",
    "#    END(제일 하단까지 스크롤 내리기)\n",
    "# 스크롤 적용 대상 : body태그에 적용\n",
    "# 스크롤 적용하는 방법 : send_keys(Keys.스크롤 내리는 방법 설정)\n",
    "driver.find_element(By.TAG_NAME, value = 'body').send_keys(Keys.ARROW_UP)"
   ]
  },
  {
   "cell_type": "code",
   "execution_count": 49,
   "id": "50ba37ab",
   "metadata": {
    "ExecuteTime": {
     "end_time": "2022-12-19T01:34:50.031222Z",
     "start_time": "2022-12-19T01:34:49.929494Z"
    }
   },
   "outputs": [],
   "source": [
    "# 크롬 브라우저 창 끄기\n",
    "driver.close()"
   ]
  },
  {
   "cell_type": "code",
   "execution_count": null,
   "id": "f7d5cf34",
   "metadata": {},
   "outputs": [],
   "source": []
  },
  {
   "cell_type": "code",
   "execution_count": null,
   "id": "76144342",
   "metadata": {},
   "outputs": [],
   "source": []
  },
  {
   "cell_type": "code",
   "execution_count": null,
   "id": "fec85371",
   "metadata": {},
   "outputs": [],
   "source": []
  },
  {
   "cell_type": "code",
   "execution_count": null,
   "id": "a48602b3",
   "metadata": {},
   "outputs": [],
   "source": []
  },
  {
   "cell_type": "code",
   "execution_count": null,
   "id": "e62a5479",
   "metadata": {},
   "outputs": [],
   "source": []
  },
  {
   "cell_type": "code",
   "execution_count": null,
   "id": "04cd919e",
   "metadata": {},
   "outputs": [],
   "source": []
  },
  {
   "cell_type": "code",
   "execution_count": null,
   "id": "94043db6",
   "metadata": {},
   "outputs": [],
   "source": []
  },
  {
   "cell_type": "code",
   "execution_count": null,
   "id": "bda61848",
   "metadata": {},
   "outputs": [],
   "source": []
  },
  {
   "cell_type": "code",
   "execution_count": null,
   "id": "68d82b9a",
   "metadata": {},
   "outputs": [],
   "source": []
  },
  {
   "cell_type": "code",
   "execution_count": null,
   "id": "8f168af3",
   "metadata": {},
   "outputs": [],
   "source": []
  },
  {
   "cell_type": "code",
   "execution_count": null,
   "id": "4ab718f0",
   "metadata": {},
   "outputs": [],
   "source": []
  },
  {
   "cell_type": "code",
   "execution_count": null,
   "id": "8f699c15",
   "metadata": {},
   "outputs": [],
   "source": []
  },
  {
   "cell_type": "code",
   "execution_count": null,
   "id": "7c0b47eb",
   "metadata": {},
   "outputs": [],
   "source": []
  },
  {
   "cell_type": "code",
   "execution_count": null,
   "id": "4a18d396",
   "metadata": {},
   "outputs": [],
   "source": []
  },
  {
   "cell_type": "code",
   "execution_count": null,
   "id": "127aec58",
   "metadata": {},
   "outputs": [],
   "source": []
  }
 ],
 "metadata": {
  "kernelspec": {
   "display_name": "Python 3 (ipykernel)",
   "language": "python",
   "name": "python3"
  },
  "language_info": {
   "codemirror_mode": {
    "name": "ipython",
    "version": 3
   },
   "file_extension": ".py",
   "mimetype": "text/x-python",
   "name": "python",
   "nbconvert_exporter": "python",
   "pygments_lexer": "ipython3",
   "version": "3.9.13"
  },
  "toc": {
   "base_numbering": 1,
   "nav_menu": {},
   "number_sections": true,
   "sideBar": true,
   "skip_h1_title": false,
   "title_cell": "Table of Contents",
   "title_sidebar": "Contents",
   "toc_cell": false,
   "toc_position": {},
   "toc_section_display": true,
   "toc_window_display": false
  }
 },
 "nbformat": 4,
 "nbformat_minor": 5
}
