{
 "cells": [
  {
   "cell_type": "markdown",
   "id": "0ca60fb2",
   "metadata": {},
   "source": [
    "### 네이버 이미지 검색을 통한 이미지 수집\n",
    "1. 이미지 저장할 폴더 정리(os라이브러리)\n",
    "2. 이미지 url활용 수집후 이미지 파일로 저장해보기(urllib 라이브러리 urlretrieve)\n",
    "3. 한 페이지 내의 고양이(동물) 이미지 수집하기\n",
    "4. 스크롤 다운하여 더 많은 이미지 파일 출력해서 저장하기"
   ]
  },
  {
   "cell_type": "code",
   "execution_count": 3,
   "id": "c7a577d0",
   "metadata": {
    "ExecuteTime": {
     "end_time": "2022-12-20T02:49:18.545405Z",
     "start_time": "2022-12-20T02:49:18.451759Z"
    }
   },
   "outputs": [],
   "source": [
    "from selenium import webdriver as wb\n",
    "from selenium.webdriver.common.by import By\n",
    "from selenium.webdriver.common.keys import Keys\n",
    "import time\n",
    "\n",
    "# 파일시스템을 다룰 때 사용하는 라이브러리\n",
    "# 파일 or 폴더 생성, 삭제, 이동, 파일이나 폴더의 존재여부를 판단 등등\n",
    "import os\n",
    "\n",
    "# 이미지경로를 기반으로 서버에 요청해서 이미지파일을 저장할 수 있게 하는 라이브러리\n",
    "from urllib.request import urlretrieve"
   ]
  },
  {
   "cell_type": "code",
   "execution_count": 4,
   "id": "26141814",
   "metadata": {
    "ExecuteTime": {
     "end_time": "2022-12-20T02:49:19.934102Z",
     "start_time": "2022-12-20T02:49:19.875408Z"
    }
   },
   "outputs": [
    {
     "data": {
      "text/plain": [
       "('./여우.jpg', <http.client.HTTPMessage at 0x20045366550>)"
      ]
     },
     "execution_count": 4,
     "metadata": {},
     "output_type": "execute_result"
    }
   ],
   "source": [
    "url = 'https://search.pstatic.net/common/?src=http%3A%2F%2Fblogfiles.naver.net%2FMjAyMjEwMjFfNDQg%2FMDAxNjY2MzE0ODA5NDE1.y0k7blNKUUvss7ZgSSoE6E3Ef6i8s7Mi0hlndf01tcAg.seSLps2VcvyAr5wkHCfpEyD-kJamb2AtN2mCfaM57Rgg.JPEG.ggue6852%2FCK_cm08039676.jpg&type=a340'\n",
    "#urlretrieve(요청할 이미지 경로, 이미지 파일을 저장할 경로)\n",
    "urlretrieve(url, './여우.jpg')"
   ]
  },
  {
   "cell_type": "code",
   "execution_count": 7,
   "id": "cf3d2c25",
   "metadata": {
    "ExecuteTime": {
     "end_time": "2022-12-20T02:52:50.433336Z",
     "start_time": "2022-12-20T02:52:50.420356Z"
    }
   },
   "outputs": [
    {
     "data": {
      "text/plain": [
       "True"
      ]
     },
     "execution_count": 7,
     "metadata": {},
     "output_type": "execute_result"
    }
   ],
   "source": [
    "# 폴더 존재여부 판단하기\n",
    "# 폴더가 있다면 : True\n",
    "# 폴더가 없다면 : False\n",
    "# os.path -> 경로를 확인해라\n",
    "# .isdir() -> 이 디렉토리가 있는지 확인해라!\n",
    "os.path.isdir('./여우')"
   ]
  },
  {
   "cell_type": "code",
   "execution_count": 6,
   "id": "1c3253bd",
   "metadata": {
    "ExecuteTime": {
     "end_time": "2022-12-20T02:52:48.556708Z",
     "start_time": "2022-12-20T02:52:48.542746Z"
    }
   },
   "outputs": [],
   "source": [
    "# 폴더 생성하기\n",
    "os.mkdir('./여우')"
   ]
  },
  {
   "cell_type": "code",
   "execution_count": 11,
   "id": "581cc250",
   "metadata": {
    "ExecuteTime": {
     "end_time": "2022-12-20T02:55:39.609060Z",
     "start_time": "2022-12-20T02:55:39.596095Z"
    }
   },
   "outputs": [
    {
     "data": {
      "text/plain": [
       "True"
      ]
     },
     "execution_count": 11,
     "metadata": {},
     "output_type": "execute_result"
    }
   ],
   "source": [
    "os.path.isdir('./여우')"
   ]
  },
  {
   "cell_type": "code",
   "execution_count": 10,
   "id": "43bc4fec",
   "metadata": {
    "ExecuteTime": {
     "end_time": "2022-12-20T02:55:35.192944Z",
     "start_time": "2022-12-20T02:55:35.180005Z"
    }
   },
   "outputs": [],
   "source": [
    "# 조건\n",
    "# 해당 폴더가 있으면 폴더생성x\n",
    "# 해당 폴더가 없으면 폴더생성\n",
    "if os.path.isdir('./여우') == True:\n",
    "    print('현재 폴더는 있습니다')\n",
    "else:\n",
    "    os.mkdir('./여우')"
   ]
  },
  {
   "cell_type": "code",
   "execution_count": 12,
   "id": "b30e11ce",
   "metadata": {
    "ExecuteTime": {
     "end_time": "2022-12-20T03:09:54.860730Z",
     "start_time": "2022-12-20T03:09:54.852776Z"
    }
   },
   "outputs": [],
   "source": [
    "# 폴더 생성하는 함수 만들기\n",
    "def create_folder(name): # name폴더명\n",
    "    if os.path.isdir(f'./{name}') == True:\n",
    "        print('현재 폴더는 있습니다')\n",
    "    else:\n",
    "        os.mkdir(f'./{name}')\n",
    "        print(f'{name} 폴더가 생성되었습니다!')\n",
    "    "
   ]
  },
  {
   "cell_type": "code",
   "execution_count": 28,
   "id": "92fbc9b0",
   "metadata": {
    "ExecuteTime": {
     "end_time": "2022-12-20T03:21:19.698102Z",
     "start_time": "2022-12-20T03:21:19.684141Z"
    }
   },
   "outputs": [
    {
     "name": "stdout",
     "output_type": "stream",
     "text": [
      "강아지 폴더가 생성되었습니다!\n"
     ]
    }
   ],
   "source": [
    "# 함수 호출\n",
    "create_folder('강아지')"
   ]
  },
  {
   "cell_type": "markdown",
   "id": "d1d3a1af",
   "metadata": {},
   "source": [
    "### 이미지 url활용 수집 후 이미지 파일로 저장하기"
   ]
  },
  {
   "cell_type": "code",
   "execution_count": 20,
   "id": "ac8923d5",
   "metadata": {
    "ExecuteTime": {
     "end_time": "2022-12-20T03:15:01.305442Z",
     "start_time": "2022-12-20T03:14:59.877027Z"
    }
   },
   "outputs": [],
   "source": [
    "url = 'https://search.naver.com/search.naver?sm=tab_hty.top&where=image&query=%EC%97%AC%EC%9A%B0&oquery=dudn&tqi=hIZAusprvTossTav7bwssssstkR-342325'\n",
    "\n",
    "# 드라이버 요청\n",
    "driver = wb.Chrome()\n",
    "driver.get(url)"
   ]
  },
  {
   "cell_type": "code",
   "execution_count": 27,
   "id": "402e3a1e",
   "metadata": {
    "ExecuteTime": {
     "end_time": "2022-12-20T03:21:02.681855Z",
     "start_time": "2022-12-20T03:21:02.612082Z"
    }
   },
   "outputs": [
    {
     "data": {
      "text/plain": [
       "('./여우/여우1.jpg', <http.client.HTTPMessage at 0x20047cfde50>)"
      ]
     },
     "execution_count": 27,
     "metadata": {},
     "output_type": "execute_result"
    }
   ],
   "source": [
    "# 첫번째 이미지 태그 접근하기\n",
    "img01 = driver.find_element(By.CSS_SELECTOR, '.link_thumb > ._image')\n",
    "img01_url = img01.get_attribute('src')\n",
    "\n",
    "# 저장하기\n",
    "urlretrieve(img01_url, './여우/여우1.jpg')"
   ]
  },
  {
   "cell_type": "markdown",
   "id": "986fae44",
   "metadata": {},
   "source": [
    "### 스크롤 다운하여 더 많은 이미지 파일 저장하기"
   ]
  },
  {
   "cell_type": "code",
   "execution_count": 34,
   "id": "792ef155",
   "metadata": {
    "ExecuteTime": {
     "end_time": "2022-12-20T03:35:31.595416Z",
     "start_time": "2022-12-20T03:35:13.820161Z"
    }
   },
   "outputs": [
    {
     "name": "stdout",
     "output_type": "stream",
     "text": [
      "481\n"
     ]
    }
   ],
   "source": [
    "url = 'https://search.naver.com/search.naver?sm=tab_hty.top&where=image&query=%EC%97%AC%EC%9A%B0&oquery=dudn&tqi=hIZAusprvTossTav7bwssssstkR-342325'\n",
    "\n",
    "# 드라이버 요청\n",
    "driver = wb.Chrome()\n",
    "driver.get(url)\n",
    "\n",
    "# 로딩시간이 필요함\n",
    "time.sleep(2)\n",
    "\n",
    "# 스크롤을 내리기 -> 이미지가 다 보이게 하는 것\n",
    "for i in range(6):\n",
    "    driver.find_element(By.TAG_NAME, value = 'body').send_keys(Keys.END)\n",
    "    time.sleep(2)\n",
    "    \n",
    "# 이미지 태그 접근\n",
    "imgs = driver.find_elements(By.CSS_SELECTOR, 'img._image._listImage')\n",
    "print(len(imgs))\n",
    "\n"
   ]
  },
  {
   "cell_type": "code",
   "execution_count": 41,
   "id": "04153f8a",
   "metadata": {
    "ExecuteTime": {
     "end_time": "2022-12-20T03:47:57.930735Z",
     "start_time": "2022-12-20T03:47:37.173469Z"
    }
   },
   "outputs": [],
   "source": [
    "src_lst = [] # 올바른 주소 저장하는 리스트\n",
    "\n",
    "for i in range(len(imgs)):\n",
    "    src = imgs[i].get_attribute('src')\n",
    "    if src[:4] != 'data' : # 올바른 주소\n",
    "        src_lst.append(src)\n",
    "        \n",
    "# 폴더에 이미지 파일 저장하기, src_lst개수만큼 반복하며 저장\n",
    "for i in range(len(src_lst)):\n",
    "    urlretrieve(src_lst[i], f'./여우/여우{i+1}.jpg')"
   ]
  },
  {
   "cell_type": "code",
   "execution_count": 42,
   "id": "73fdb89c",
   "metadata": {
    "ExecuteTime": {
     "end_time": "2022-12-20T03:47:59.083533Z",
     "start_time": "2022-12-20T03:47:59.077549Z"
    }
   },
   "outputs": [
    {
     "name": "stdout",
     "output_type": "stream",
     "text": [
      "468\n"
     ]
    }
   ],
   "source": [
    "print(len(src_lst))"
   ]
  },
  {
   "cell_type": "code",
   "execution_count": null,
   "id": "df6e6d45",
   "metadata": {},
   "outputs": [],
   "source": []
  },
  {
   "cell_type": "code",
   "execution_count": null,
   "id": "8274e9c3",
   "metadata": {},
   "outputs": [],
   "source": []
  },
  {
   "cell_type": "code",
   "execution_count": null,
   "id": "b8094508",
   "metadata": {},
   "outputs": [],
   "source": []
  },
  {
   "cell_type": "code",
   "execution_count": null,
   "id": "2b77ddc4",
   "metadata": {},
   "outputs": [],
   "source": []
  },
  {
   "cell_type": "code",
   "execution_count": null,
   "id": "abf7efdc",
   "metadata": {},
   "outputs": [],
   "source": []
  },
  {
   "cell_type": "code",
   "execution_count": null,
   "id": "a543dc7c",
   "metadata": {},
   "outputs": [],
   "source": []
  },
  {
   "cell_type": "code",
   "execution_count": null,
   "id": "790b56a8",
   "metadata": {},
   "outputs": [],
   "source": []
  },
  {
   "cell_type": "code",
   "execution_count": null,
   "id": "6701950b",
   "metadata": {},
   "outputs": [],
   "source": []
  },
  {
   "cell_type": "code",
   "execution_count": null,
   "id": "2b3e4b82",
   "metadata": {},
   "outputs": [],
   "source": []
  },
  {
   "cell_type": "code",
   "execution_count": null,
   "id": "fc43765e",
   "metadata": {},
   "outputs": [],
   "source": []
  },
  {
   "cell_type": "code",
   "execution_count": null,
   "id": "3e167084",
   "metadata": {},
   "outputs": [],
   "source": []
  },
  {
   "cell_type": "code",
   "execution_count": null,
   "id": "943fc222",
   "metadata": {},
   "outputs": [],
   "source": []
  }
 ],
 "metadata": {
  "kernelspec": {
   "display_name": "Python 3 (ipykernel)",
   "language": "python",
   "name": "python3"
  },
  "language_info": {
   "codemirror_mode": {
    "name": "ipython",
    "version": 3
   },
   "file_extension": ".py",
   "mimetype": "text/x-python",
   "name": "python",
   "nbconvert_exporter": "python",
   "pygments_lexer": "ipython3",
   "version": "3.9.13"
  },
  "toc": {
   "base_numbering": 1,
   "nav_menu": {},
   "number_sections": true,
   "sideBar": true,
   "skip_h1_title": false,
   "title_cell": "Table of Contents",
   "title_sidebar": "Contents",
   "toc_cell": false,
   "toc_position": {},
   "toc_section_display": true,
   "toc_window_display": false
  }
 },
 "nbformat": 4,
 "nbformat_minor": 5
}
