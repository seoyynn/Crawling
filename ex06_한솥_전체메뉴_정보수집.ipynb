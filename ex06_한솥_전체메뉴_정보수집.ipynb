{
 "cells": [
  {
   "cell_type": "code",
   "execution_count": 10,
   "id": "994eeeeb",
   "metadata": {
    "ExecuteTime": {
     "end_time": "2022-12-19T02:42:03.739099Z",
     "start_time": "2022-12-19T02:42:03.726074Z"
    }
   },
   "outputs": [],
   "source": [
    "# 도구 불러오기\n",
    "import pandas as pd\n",
    "import time # 실행에 대한 딜레이를 주기 위한 라이브러리\n",
    "from selenium import webdriver as wb\n",
    "from selenium.webdriver.common.by import By"
   ]
  },
  {
   "cell_type": "code",
   "execution_count": 11,
   "id": "d35d5afb",
   "metadata": {
    "ExecuteTime": {
     "end_time": "2022-12-19T02:42:05.548940Z",
     "start_time": "2022-12-19T02:42:03.742032Z"
    }
   },
   "outputs": [],
   "source": [
    "# url 정의\n",
    "url = 'https://www.hsd.co.kr/menu/menu_list'\n",
    "\n",
    "# 크롬 브라우저 열기\n",
    "driver = wb.Chrome()\n",
    "driver.get(url)"
   ]
  },
  {
   "cell_type": "markdown",
   "id": "fc66a467",
   "metadata": {},
   "source": [
    "1. '더보기' html요소 접근하기\n",
    "2. '더보기'요소를 클릭한다.(while)\n",
    "3. 클릭을 완료했을 때 모든 메뉴정보가 브라우저에 출력되어야한다\n",
    "4. 메뉴명, 가격정보를 수집한다.\n",
    "5. 메뉴명, 가격정보를 텍스트 내용만 가져온 후 리스트에 저장한다\n",
    "6. 각 리스트를 이용하여 딕셔너리로 정리 -> DataFrame으로 생성한다."
   ]
  },
  {
   "cell_type": "markdown",
   "id": "6f941ad4",
   "metadata": {},
   "source": [
    "### '더보기' html요소 접근하기"
   ]
  },
  {
   "cell_type": "code",
   "execution_count": 3,
   "id": "9b76b3df",
   "metadata": {
    "ExecuteTime": {
     "end_time": "2022-12-19T02:41:58.465209Z",
     "start_time": "2022-12-19T02:41:58.422326Z"
    }
   },
   "outputs": [],
   "source": [
    "driver.find_element(By.CSS_SELECTOR, value='.c_05').click()"
   ]
  },
  {
   "cell_type": "markdown",
   "id": "7b1e533d",
   "metadata": {},
   "source": [
    "### 3.클릭을 완료했을 때 모든 메뉴정보가 브라우저에 출력되어야한다"
   ]
  },
  {
   "cell_type": "code",
   "execution_count": 12,
   "id": "b0dc4af2",
   "metadata": {
    "ExecuteTime": {
     "end_time": "2022-12-19T02:42:14.303370Z",
     "start_time": "2022-12-19T02:42:10.136216Z"
    }
   },
   "outputs": [
    {
     "name": "stdout",
     "output_type": "stream",
     "text": [
      "더 보기 클릭 완료!\n"
     ]
    }
   ],
   "source": [
    "# 2~3번 동시진행 : 예외처리(try~except 문법)\n",
    "try:\n",
    "    while True:\n",
    "        driver.find_element(By.CSS_SELECTOR, value='.c_05').click()\n",
    "\n",
    "        # 클릭한 후 1초 뒤에 동작\n",
    "        # -> 네트워크 속도에 따라서 컨텐츠가 보여지는 로딩 시간이 다르기 때문\n",
    "        # sleep() : 딜레이를 적용할 때 사용\n",
    "        # 2 ~ 5초 사이로 설정\n",
    "        # 활용 : 페이지간의 이동이 있다거나, 스크롤, 클릭\n",
    "        time.sleep(1)\n",
    "except:\n",
    "    print('더 보기 클릭 완료!')"
   ]
  },
  {
   "cell_type": "code",
   "execution_count": 13,
   "id": "59054223",
   "metadata": {
    "ExecuteTime": {
     "end_time": "2022-12-19T02:42:14.364008Z",
     "start_time": "2022-12-19T02:42:14.305340Z"
    }
   },
   "outputs": [
    {
     "name": "stdout",
     "output_type": "stream",
     "text": [
      "[반찬] 사골 우거지 곰탕\n",
      "4,900\n"
     ]
    }
   ],
   "source": [
    "all_menu = driver.find_elements(By.CSS_SELECTOR, value = '.item-text')\n",
    "menu = driver.find_elements(By.CSS_SELECTOR, value = '.item-text > .fz_03')\n",
    "price = driver.find_elements(By.CSS_SELECTOR, value = '.item-price > strong')\n",
    "\n",
    "print(menu[0].text)\n",
    "print(price[0].text)"
   ]
  },
  {
   "cell_type": "code",
   "execution_count": 14,
   "id": "9dde48a5",
   "metadata": {
    "ExecuteTime": {
     "end_time": "2022-12-19T02:42:17.282569Z",
     "start_time": "2022-12-19T02:42:14.365007Z"
    }
   },
   "outputs": [],
   "source": [
    "han = []\n",
    "sot = []\n",
    "for i in menu:\n",
    "    han.append(i.text)\n",
    "    "
   ]
  },
  {
   "cell_type": "code",
   "execution_count": 15,
   "id": "0db13ea8",
   "metadata": {
    "ExecuteTime": {
     "end_time": "2022-12-19T02:42:17.297527Z",
     "start_time": "2022-12-19T02:42:17.283541Z"
    },
    "collapsed": true
   },
   "outputs": [
    {
     "data": {
      "text/plain": [
       "['[반찬] 사골 우거지 곰탕',\n",
       " '[착한도시락] 참치야채 감초고추장 사골 우거지 곰탕 정식',\n",
       " '[착한도시락] 빅치킨마요 사골 우거지 곰탕 정식',\n",
       " '[착한도시락] 제육 사골 우거지 곰탕 정식',\n",
       " '[착한도시락] 사골 우거지 곰탕',\n",
       " '알통팩(알찬 통다리 치킨팩)',\n",
       " '잡채볶음밥(중화풍 매운맛)',\n",
       " '잡채볶음밥(오리지널)',\n",
       " '해바라기',\n",
       " '핫 치즈 닭갈비덮밥',\n",
       " '오리지널 치즈 닭갈비덮밥',\n",
       " '매화',\n",
       " '진달래',\n",
       " '개나리',\n",
       " '돈까스도련님고기고기',\n",
       " '탕수육도련님고기고기',\n",
       " '새치 고기고기',\n",
       " '돈치 고기고기',\n",
       " '숯불직화구이',\n",
       " '소불고기',\n",
       " '메가치킨제육',\n",
       " '칠리 찹쌀탕수육도련님',\n",
       " '동백',\n",
       " '치킨제육',\n",
       " '돈까스도련님',\n",
       " '제육볶음',\n",
       " '돈치스팸 도시락',\n",
       " '제육 김치찌개 정식',\n",
       " '제육 김치 부대찌개 정식',\n",
       " '돈치스팸 김치 부대찌개 정식',\n",
       " '빅치킨마요 김치 부대찌개 정식',\n",
       " '치킨마요 김치 부대찌개 정식',\n",
       " '빅치킨마요 김치찌개 정식',\n",
       " '치킨마요 김치찌개 정식',\n",
       " '메가스팸마요',\n",
       " '스팸마요',\n",
       " '메가치킨마요',\n",
       " '왕치킨마요',\n",
       " '빅치킨마요',\n",
       " '치킨마요',\n",
       " '참치마요',\n",
       " '돈치마요',\n",
       " '돈까스 카레',\n",
       " '스팸 김치볶음밥',\n",
       " '김치볶음밥',\n",
       " '스팸철판볶음밥',\n",
       " '소불고기 철판볶음밥',\n",
       " '나시고랭',\n",
       " '묵은지 김치찌개',\n",
       " '김치 부대찌개',\n",
       " '숯불직화구이 덮밥',\n",
       " '마파두부 덮밥',\n",
       " '왕카레돈까스덮밥',\n",
       " '새우돈까스 덮밥',\n",
       " '돈까스 덮밥',\n",
       " '소불고기 감초고추장 비빔밥',\n",
       " '시골제육 두부강된장 비빔밥',\n",
       " '참치야채 감초고추장',\n",
       " '튼튼도시락',\n",
       " '토네이도 소세지 파스타',\n",
       " '트리플 치즈 파스타',\n",
       " '토마토 미트 파스타',\n",
       " '반찬 계란말이',\n",
       " '반찬 묵은지김치찌개',\n",
       " '반찬 카레',\n",
       " '반찬 김치 부대찌개',\n",
       " '반찬 치킨',\n",
       " '반찬 고기고기',\n",
       " '반찬 돈까스 도련님',\n",
       " '반찬 제육볶음',\n",
       " '반찬 토네이도 소세지',\n",
       " '반찬 반달돈까스',\n",
       " '뉴 감자고로케',\n",
       " '미니 찹쌀핫도그',\n",
       " '미니 찹쌀탕수육',\n",
       " '케이준후라이',\n",
       " '후라이드 순살(중)',\n",
       " '후라이드 순살(소)_양념치킨소스',\n",
       " '후라이드 순살(소)_케이준소스',\n",
       " '오리지널 닭강정(중)',\n",
       " '오리지널 닭강정(소)',\n",
       " '오징어젓갈',\n",
       " '한솥 두부강된장소스',\n",
       " '한솥 감초볶음고추장소스',\n",
       " '볶음김치',\n",
       " '김치',\n",
       " '무말랭이 무침',\n",
       " '한솥밥',\n",
       " '현미밥',\n",
       " '리얼 티라미수 찰떡',\n",
       " '리얼꿀 미니호떡']"
      ]
     },
     "execution_count": 15,
     "metadata": {},
     "output_type": "execute_result"
    }
   ],
   "source": [
    "han"
   ]
  },
  {
   "cell_type": "code",
   "execution_count": 17,
   "id": "160affaa",
   "metadata": {
    "ExecuteTime": {
     "end_time": "2022-12-19T02:44:33.776676Z",
     "start_time": "2022-12-19T02:44:32.808627Z"
    }
   },
   "outputs": [],
   "source": [
    "for i in price:\n",
    "    sot.append(i.text)"
   ]
  },
  {
   "cell_type": "code",
   "execution_count": 9,
   "id": "eb47c9cc",
   "metadata": {
    "ExecuteTime": {
     "end_time": "2022-12-19T02:42:03.724079Z",
     "start_time": "2022-12-19T02:42:03.710116Z"
    },
    "collapsed": true
   },
   "outputs": [
    {
     "data": {
      "text/plain": [
       "['4,900',\n",
       " '7,500',\n",
       " '7,900',\n",
       " '8,900',\n",
       " '6,500',\n",
       " '11,900',\n",
       " '5,500',\n",
       " '5,300',\n",
       " '10,000',\n",
       " '5,900',\n",
       " '5,900',\n",
       " '10,000',\n",
       " '7,500',\n",
       " '8,500',\n",
       " '6,000',\n",
       " '5,800',\n",
       " '6,700',\n",
       " '5,800',\n",
       " '6,500',\n",
       " '5,400',\n",
       " '7,000',\n",
       " '4,200',\n",
       " '5,800',\n",
       " '4,700',\n",
       " '4,500',\n",
       " '4,200',\n",
       " '4,900',\n",
       " '8,200',\n",
       " '8,500',\n",
       " '8,500',\n",
       " '7,500',\n",
       " '6,900',\n",
       " '7,000',\n",
       " '6,500',\n",
       " '5,600',\n",
       " '3,700',\n",
       " '5,800',\n",
       " '4,800',\n",
       " '4,100',\n",
       " '3,500',\n",
       " '3,500',\n",
       " '3,800',\n",
       " '4,500',\n",
       " '4,700',\n",
       " '3,900',\n",
       " '4,500',\n",
       " '4,700',\n",
       " '6,000',\n",
       " '4,500',\n",
       " '5,800',\n",
       " '5,900',\n",
       " '5,000',\n",
       " '5,900',\n",
       " '4,100',\n",
       " '4,000',\n",
       " '5,200',\n",
       " '5,000',\n",
       " '3,500',\n",
       " '5,000',\n",
       " '5,500',\n",
       " '5,500',\n",
       " '4,500',\n",
       " '2,500',\n",
       " '4,000',\n",
       " '2,800',\n",
       " '4,500',\n",
       " '3,600',\n",
       " '3,400',\n",
       " '3,800',\n",
       " '3,200',\n",
       " '2,600',\n",
       " '2,800',\n",
       " '2,700',\n",
       " '2,500',\n",
       " '2,200',\n",
       " '1,900',\n",
       " '7,500',\n",
       " '4,000',\n",
       " '4,000',\n",
       " '8,000',\n",
       " '3,400',\n",
       " '500',\n",
       " '1,800',\n",
       " '500',\n",
       " '500',\n",
       " '400',\n",
       " '400',\n",
       " '1,000',\n",
       " '1,700',\n",
       " '1,500',\n",
       " '2,200']"
      ]
     },
     "execution_count": 9,
     "metadata": {},
     "output_type": "execute_result"
    }
   ],
   "source": [
    "sot"
   ]
  },
  {
   "cell_type": "code",
   "execution_count": 21,
   "id": "62e5b3e6",
   "metadata": {
    "ExecuteTime": {
     "end_time": "2022-12-19T02:46:50.089692Z",
     "start_time": "2022-12-19T02:46:50.072737Z"
    }
   },
   "outputs": [
    {
     "data": {
      "text/html": [
       "<div>\n",
       "<style scoped>\n",
       "    .dataframe tbody tr th:only-of-type {\n",
       "        vertical-align: middle;\n",
       "    }\n",
       "\n",
       "    .dataframe tbody tr th {\n",
       "        vertical-align: top;\n",
       "    }\n",
       "\n",
       "    .dataframe thead th {\n",
       "        text-align: right;\n",
       "    }\n",
       "</style>\n",
       "<table border=\"1\" class=\"dataframe\">\n",
       "  <thead>\n",
       "    <tr style=\"text-align: right;\">\n",
       "      <th></th>\n",
       "      <th>메뉴명</th>\n",
       "      <th>가격</th>\n",
       "    </tr>\n",
       "  </thead>\n",
       "  <tbody>\n",
       "    <tr>\n",
       "      <th>0</th>\n",
       "      <td>[반찬] 사골 우거지 곰탕</td>\n",
       "      <td>4,900</td>\n",
       "    </tr>\n",
       "    <tr>\n",
       "      <th>1</th>\n",
       "      <td>[착한도시락] 참치야채 감초고추장 사골 우거지 곰탕 정식</td>\n",
       "      <td>7,500</td>\n",
       "    </tr>\n",
       "    <tr>\n",
       "      <th>2</th>\n",
       "      <td>[착한도시락] 빅치킨마요 사골 우거지 곰탕 정식</td>\n",
       "      <td>7,900</td>\n",
       "    </tr>\n",
       "    <tr>\n",
       "      <th>3</th>\n",
       "      <td>[착한도시락] 제육 사골 우거지 곰탕 정식</td>\n",
       "      <td>8,900</td>\n",
       "    </tr>\n",
       "    <tr>\n",
       "      <th>4</th>\n",
       "      <td>[착한도시락] 사골 우거지 곰탕</td>\n",
       "      <td>6,500</td>\n",
       "    </tr>\n",
       "    <tr>\n",
       "      <th>...</th>\n",
       "      <td>...</td>\n",
       "      <td>...</td>\n",
       "    </tr>\n",
       "    <tr>\n",
       "      <th>86</th>\n",
       "      <td>무말랭이 무침</td>\n",
       "      <td>400</td>\n",
       "    </tr>\n",
       "    <tr>\n",
       "      <th>87</th>\n",
       "      <td>한솥밥</td>\n",
       "      <td>1,000</td>\n",
       "    </tr>\n",
       "    <tr>\n",
       "      <th>88</th>\n",
       "      <td>현미밥</td>\n",
       "      <td>1,700</td>\n",
       "    </tr>\n",
       "    <tr>\n",
       "      <th>89</th>\n",
       "      <td>리얼 티라미수 찰떡</td>\n",
       "      <td>1,500</td>\n",
       "    </tr>\n",
       "    <tr>\n",
       "      <th>90</th>\n",
       "      <td>리얼꿀 미니호떡</td>\n",
       "      <td>2,200</td>\n",
       "    </tr>\n",
       "  </tbody>\n",
       "</table>\n",
       "<p>91 rows × 2 columns</p>\n",
       "</div>"
      ],
      "text/plain": [
       "                                메뉴명     가격\n",
       "0                    [반찬] 사골 우거지 곰탕  4,900\n",
       "1   [착한도시락] 참치야채 감초고추장 사골 우거지 곰탕 정식  7,500\n",
       "2        [착한도시락] 빅치킨마요 사골 우거지 곰탕 정식  7,900\n",
       "3           [착한도시락] 제육 사골 우거지 곰탕 정식  8,900\n",
       "4                 [착한도시락] 사골 우거지 곰탕  6,500\n",
       "..                              ...    ...\n",
       "86                          무말랭이 무침    400\n",
       "87                              한솥밥  1,000\n",
       "88                              현미밥  1,700\n",
       "89                       리얼 티라미수 찰떡  1,500\n",
       "90                         리얼꿀 미니호떡  2,200\n",
       "\n",
       "[91 rows x 2 columns]"
      ]
     },
     "execution_count": 21,
     "metadata": {},
     "output_type": "execute_result"
    }
   ],
   "source": [
    "hansot = {'메뉴명': han, '가격': sot}\n",
    "hansot_df = pd.DataFrame(hansot)\n",
    "hansot_df"
   ]
  },
  {
   "cell_type": "code",
   "execution_count": 39,
   "id": "6c2e6dca",
   "metadata": {
    "ExecuteTime": {
     "end_time": "2022-12-19T03:29:32.365273Z",
     "start_time": "2022-12-19T03:29:32.348343Z"
    }
   },
   "outputs": [],
   "source": [
    "# hansot_df['가격'] = hansot_df['가격'].replace(',', '')\n",
    "# 이렇게하면 시리즈 자체에 적용이 되기때문에\n",
    "# hansot_df['가격'] = hansot_df['가격'].str.replace(',', '')\n",
    "# .str을 붙여서 열데이터에 접근하여 실행해야한다\n",
    "\n",
    "# 가격 컬럼 데이터 타입 숫자로 변환하기\n",
    "# hansot_df['가격'] = hansot_df['가격'].astype('int64')\n",
    "# 또는 콤마를 제거한 후 가격 컬럼 데이터 타입 숫자로 변환\n",
    "hansot_df['가격'] = hansot_df['가격'].str.replace(',', '').astype('int64')"
   ]
  },
  {
   "cell_type": "code",
   "execution_count": 43,
   "id": "1daf16f4",
   "metadata": {
    "ExecuteTime": {
     "end_time": "2022-12-19T03:39:41.036238Z",
     "start_time": "2022-12-19T03:39:41.029261Z"
    }
   },
   "outputs": [
    {
     "data": {
      "text/plain": [
       "52"
      ]
     },
     "execution_count": 43,
     "metadata": {},
     "output_type": "execute_result"
    }
   ],
   "source": [
    "# 한솥 전체 메뉴 중에서 5000원 이하인 메뉴는 몇 개 있을까?\n",
    "# 그 메뉴들의 이름은 뭘까?\n",
    "# 1. 콤마를 제거한 후 가격 컬럼 데이터 타입 숫자로 변환\n",
    "# hansot_df['가격'].astype('int64')\n",
    "\n",
    "# 컬럼 인덱싱하는 방법\n",
    "# df['컬럼명'], df.loc[:, '컬럼명'], df.iloc[:, 컬럼인덱스]\n",
    "\n",
    "filter1_len = hansot_df[hansot_df['가격'] <= 5000].shape[0]\n",
    "filter1_len"
   ]
  },
  {
   "cell_type": "code",
   "execution_count": 44,
   "id": "d112be2c",
   "metadata": {
    "ExecuteTime": {
     "end_time": "2022-12-19T03:40:16.109253Z",
     "start_time": "2022-12-19T03:40:16.099279Z"
    }
   },
   "outputs": [
    {
     "data": {
      "text/plain": [
       "0        [반찬] 사골 우거지 곰탕\n",
       "21          칠리 찹쌀탕수육도련님\n",
       "23                 치킨제육\n",
       "24               돈까스도련님\n",
       "25                 제육볶음\n",
       "26             돈치스팸 도시락\n",
       "35                 스팸마요\n",
       "37                왕치킨마요\n",
       "38                빅치킨마요\n",
       "39                 치킨마요\n",
       "40                 참치마요\n",
       "41                 돈치마요\n",
       "42               돈까스 카레\n",
       "43             스팸 김치볶음밥\n",
       "44                김치볶음밥\n",
       "45              스팸철판볶음밥\n",
       "46           소불고기 철판볶음밥\n",
       "48             묵은지 김치찌개\n",
       "51              마파두부 덮밥\n",
       "53             새우돈까스 덮밥\n",
       "54               돈까스 덮밥\n",
       "56       시골제육 두부강된장 비빔밥\n",
       "57           참치야채 감초고추장\n",
       "58                튼튼도시락\n",
       "61           토마토 미트 파스타\n",
       "62              반찬 계란말이\n",
       "63           반찬 묵은지김치찌개\n",
       "64                반찬 카레\n",
       "65           반찬 김치 부대찌개\n",
       "66                반찬 치킨\n",
       "67              반찬 고기고기\n",
       "68           반찬 돈까스 도련님\n",
       "69              반찬 제육볶음\n",
       "70          반찬 토네이도 소세지\n",
       "71             반찬 반달돈까스\n",
       "72              뉴 감자고로케\n",
       "73             미니 찹쌀핫도그\n",
       "74             미니 찹쌀탕수육\n",
       "75               케이준후라이\n",
       "77    후라이드 순살(소)_양념치킨소스\n",
       "78     후라이드 순살(소)_케이준소스\n",
       "80          오리지널 닭강정(소)\n",
       "81                오징어젓갈\n",
       "82           한솥 두부강된장소스\n",
       "83         한솥 감초볶음고추장소스\n",
       "84                 볶음김치\n",
       "85                   김치\n",
       "86              무말랭이 무침\n",
       "87                  한솥밥\n",
       "88                  현미밥\n",
       "89           리얼 티라미수 찰떡\n",
       "90             리얼꿀 미니호떡\n",
       "Name: 메뉴명, dtype: object"
      ]
     },
     "execution_count": 44,
     "metadata": {},
     "output_type": "execute_result"
    }
   ],
   "source": [
    "filter1_menu_nm = hansot_df[hansot_df['가격'] <= 5000]['메뉴명']\n",
    "filter1_menu_nm"
   ]
  },
  {
   "cell_type": "code",
   "execution_count": null,
   "id": "da9b2b3b",
   "metadata": {},
   "outputs": [],
   "source": []
  },
  {
   "cell_type": "code",
   "execution_count": null,
   "id": "825ae04f",
   "metadata": {},
   "outputs": [],
   "source": []
  },
  {
   "cell_type": "code",
   "execution_count": null,
   "id": "71f81def",
   "metadata": {},
   "outputs": [],
   "source": []
  },
  {
   "cell_type": "code",
   "execution_count": null,
   "id": "c0f050a6",
   "metadata": {},
   "outputs": [],
   "source": []
  },
  {
   "cell_type": "code",
   "execution_count": null,
   "id": "bdb50ba8",
   "metadata": {},
   "outputs": [],
   "source": []
  },
  {
   "cell_type": "code",
   "execution_count": null,
   "id": "57aa3f03",
   "metadata": {},
   "outputs": [],
   "source": []
  },
  {
   "cell_type": "code",
   "execution_count": null,
   "id": "5c9a0cdd",
   "metadata": {},
   "outputs": [],
   "source": []
  },
  {
   "cell_type": "code",
   "execution_count": null,
   "id": "a43a9ba2",
   "metadata": {},
   "outputs": [],
   "source": []
  },
  {
   "cell_type": "code",
   "execution_count": null,
   "id": "d37bb703",
   "metadata": {},
   "outputs": [],
   "source": []
  },
  {
   "cell_type": "code",
   "execution_count": null,
   "id": "bc9403bc",
   "metadata": {},
   "outputs": [],
   "source": []
  },
  {
   "cell_type": "code",
   "execution_count": null,
   "id": "d072d991",
   "metadata": {},
   "outputs": [],
   "source": []
  },
  {
   "cell_type": "code",
   "execution_count": null,
   "id": "2e7e53f6",
   "metadata": {},
   "outputs": [],
   "source": []
  },
  {
   "cell_type": "code",
   "execution_count": null,
   "id": "d8170a18",
   "metadata": {},
   "outputs": [],
   "source": []
  },
  {
   "cell_type": "code",
   "execution_count": null,
   "id": "2884b138",
   "metadata": {},
   "outputs": [],
   "source": []
  },
  {
   "cell_type": "code",
   "execution_count": null,
   "id": "dc910731",
   "metadata": {},
   "outputs": [],
   "source": []
  }
 ],
 "metadata": {
  "kernelspec": {
   "display_name": "Python 3 (ipykernel)",
   "language": "python",
   "name": "python3"
  },
  "language_info": {
   "codemirror_mode": {
    "name": "ipython",
    "version": 3
   },
   "file_extension": ".py",
   "mimetype": "text/x-python",
   "name": "python",
   "nbconvert_exporter": "python",
   "pygments_lexer": "ipython3",
   "version": "3.9.13"
  },
  "toc": {
   "base_numbering": 1,
   "nav_menu": {},
   "number_sections": true,
   "sideBar": true,
   "skip_h1_title": false,
   "title_cell": "Table of Contents",
   "title_sidebar": "Contents",
   "toc_cell": false,
   "toc_position": {},
   "toc_section_display": true,
   "toc_window_display": false
  }
 },
 "nbformat": 4,
 "nbformat_minor": 5
}
